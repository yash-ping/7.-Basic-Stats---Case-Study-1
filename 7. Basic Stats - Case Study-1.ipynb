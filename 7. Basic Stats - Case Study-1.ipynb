{
 "cells": [
  {
   "cell_type": "code",
   "execution_count": 1,
   "metadata": {},
   "outputs": [],
   "source": [
    "import numpy as np\n",
    "import pandas as pd\n",
    "\n",
    "import matplotlib.pyplot as plt\n",
    "import seaborn as sns\n",
    "%matplotlib inline\n",
    "\n",
    "import scipy.stats as stats"
   ]
  },
  {
   "cell_type": "code",
   "execution_count": 2,
   "metadata": {},
   "outputs": [],
   "source": [
    "d1=pd.read_csv('C:\\\\Users\\\\Yash\\\\Desktop\\\\STATS\\\\CASE STUDY FOR PANDAS\\\\7. Basic Stats - Case Study-1\\\\dietstudy.csv')\n",
    "d2=pd.read_csv('C:\\\\Users\\\\Yash\\\\Desktop\\\\STATS\\\\CASE STUDY FOR PANDAS\\\\7. Basic Stats - Case Study-1\\\\creditpromo.csv')\n",
    "d3=pd.read_csv('C:\\\\Users\\\\Yash\\\\Desktop\\\\STATS\\\\CASE STUDY FOR PANDAS\\\\7. Basic Stats - Case Study-1\\\\pollination.csv')\n",
    "d4=pd.read_csv('C:\\\\Users\\\\Yash\\\\Desktop\\\\STATS\\\\CASE STUDY FOR PANDAS\\\\7. Basic Stats - Case Study-1\\\\dvdplayer.csv')\n",
    "d5=pd.read_csv('C:\\\\Users\\\\Yash\\\\Desktop\\\\STATS\\\\CASE STUDY FOR PANDAS\\\\7. Basic Stats - Case Study-1\\\\sample_survey.csv')\n"
   ]
  },
  {
   "cell_type": "code",
   "execution_count": 3,
   "metadata": {
    "scrolled": true
   },
   "outputs": [
    {
     "data": {
      "text/html": [
       "<div>\n",
       "<style scoped>\n",
       "    .dataframe tbody tr th:only-of-type {\n",
       "        vertical-align: middle;\n",
       "    }\n",
       "\n",
       "    .dataframe tbody tr th {\n",
       "        vertical-align: top;\n",
       "    }\n",
       "\n",
       "    .dataframe thead th {\n",
       "        text-align: right;\n",
       "    }\n",
       "</style>\n",
       "<table border=\"1\" class=\"dataframe\">\n",
       "  <thead>\n",
       "    <tr style=\"text-align: right;\">\n",
       "      <th></th>\n",
       "      <th>patid</th>\n",
       "      <th>age</th>\n",
       "      <th>gender</th>\n",
       "      <th>tg0</th>\n",
       "      <th>tg1</th>\n",
       "      <th>tg2</th>\n",
       "      <th>tg3</th>\n",
       "      <th>tg4</th>\n",
       "      <th>wgt0</th>\n",
       "      <th>wgt1</th>\n",
       "      <th>wgt2</th>\n",
       "      <th>wgt3</th>\n",
       "      <th>wgt4</th>\n",
       "    </tr>\n",
       "  </thead>\n",
       "  <tbody>\n",
       "    <tr>\n",
       "      <th>0</th>\n",
       "      <td>1</td>\n",
       "      <td>45</td>\n",
       "      <td>Male</td>\n",
       "      <td>180</td>\n",
       "      <td>148</td>\n",
       "      <td>106</td>\n",
       "      <td>113</td>\n",
       "      <td>100</td>\n",
       "      <td>198</td>\n",
       "      <td>196</td>\n",
       "      <td>193</td>\n",
       "      <td>188</td>\n",
       "      <td>192</td>\n",
       "    </tr>\n",
       "    <tr>\n",
       "      <th>1</th>\n",
       "      <td>2</td>\n",
       "      <td>56</td>\n",
       "      <td>Male</td>\n",
       "      <td>139</td>\n",
       "      <td>94</td>\n",
       "      <td>119</td>\n",
       "      <td>75</td>\n",
       "      <td>92</td>\n",
       "      <td>237</td>\n",
       "      <td>233</td>\n",
       "      <td>232</td>\n",
       "      <td>228</td>\n",
       "      <td>225</td>\n",
       "    </tr>\n",
       "    <tr>\n",
       "      <th>2</th>\n",
       "      <td>3</td>\n",
       "      <td>50</td>\n",
       "      <td>Male</td>\n",
       "      <td>152</td>\n",
       "      <td>185</td>\n",
       "      <td>86</td>\n",
       "      <td>149</td>\n",
       "      <td>118</td>\n",
       "      <td>233</td>\n",
       "      <td>231</td>\n",
       "      <td>229</td>\n",
       "      <td>228</td>\n",
       "      <td>226</td>\n",
       "    </tr>\n",
       "    <tr>\n",
       "      <th>3</th>\n",
       "      <td>4</td>\n",
       "      <td>46</td>\n",
       "      <td>Female</td>\n",
       "      <td>112</td>\n",
       "      <td>145</td>\n",
       "      <td>136</td>\n",
       "      <td>149</td>\n",
       "      <td>82</td>\n",
       "      <td>179</td>\n",
       "      <td>181</td>\n",
       "      <td>177</td>\n",
       "      <td>174</td>\n",
       "      <td>172</td>\n",
       "    </tr>\n",
       "    <tr>\n",
       "      <th>4</th>\n",
       "      <td>5</td>\n",
       "      <td>64</td>\n",
       "      <td>Male</td>\n",
       "      <td>156</td>\n",
       "      <td>104</td>\n",
       "      <td>157</td>\n",
       "      <td>79</td>\n",
       "      <td>97</td>\n",
       "      <td>219</td>\n",
       "      <td>217</td>\n",
       "      <td>215</td>\n",
       "      <td>213</td>\n",
       "      <td>214</td>\n",
       "    </tr>\n",
       "  </tbody>\n",
       "</table>\n",
       "</div>"
      ],
      "text/plain": [
       "   patid  age  gender  tg0  tg1  tg2  tg3  tg4  wgt0  wgt1  wgt2  wgt3  wgt4\n",
       "0      1   45    Male  180  148  106  113  100   198   196   193   188   192\n",
       "1      2   56    Male  139   94  119   75   92   237   233   232   228   225\n",
       "2      3   50    Male  152  185   86  149  118   233   231   229   228   226\n",
       "3      4   46  Female  112  145  136  149   82   179   181   177   174   172\n",
       "4      5   64    Male  156  104  157   79   97   219   217   215   213   214"
      ]
     },
     "execution_count": 3,
     "metadata": {},
     "output_type": "execute_result"
    }
   ],
   "source": [
    "d1.head()"
   ]
  },
  {
   "cell_type": "code",
   "execution_count": 4,
   "metadata": {},
   "outputs": [
    {
     "name": "stdout",
     "output_type": "stream",
     "text": [
      "             tg0         tg4     0\n",
      "count   16.00000   16.000000  16.0\n",
      "mean   138.43750  124.375000   1.0\n",
      "std     29.04013   29.411732   0.0\n",
      "min     94.00000   82.000000   1.0\n",
      "25%    110.75000   99.250000   1.0\n",
      "50%    142.00000  122.000000   1.0\n",
      "75%    157.00000  148.500000   1.0\n",
      "max    186.00000  174.000000   1.0\n",
      "             wgt0        wgt4          0\n",
      "count   15.000000   15.000000  15.000000\n",
      "mean   196.066667  187.933333   1.066667\n",
      "std     33.302653   33.255433   0.258199\n",
      "min    151.000000  140.000000   1.000000\n",
      "25%    168.000000  161.000000   1.000000\n",
      "50%    198.000000  192.000000   1.000000\n",
      "75%    220.500000  212.000000   1.000000\n",
      "max    257.000000  249.000000   2.000000\n"
     ]
    }
   ],
   "source": [
    "#Q1...... T-Test\n",
    "pr1=d1.groupby(['tg0','tg4']).size().reset_index().describe()\n",
    "pr2=d1.groupby(['wgt0','wgt4']).size().reset_index().describe()\n",
    "print(pr1)\n",
    "print(pr2)"
   ]
  },
  {
   "cell_type": "code",
   "execution_count": 5,
   "metadata": {},
   "outputs": [
    {
     "data": {
      "text/plain": [
       "tg0    21.321946\n",
       "tg4    19.487710\n",
       "0       1.896896\n",
       "dtype: float64"
      ]
     },
     "execution_count": 5,
     "metadata": {},
     "output_type": "execute_result"
    }
   ],
   "source": [
    "pr1.sem()"
   ]
  },
  {
   "cell_type": "code",
   "execution_count": 6,
   "metadata": {},
   "outputs": [
    {
     "data": {
      "text/plain": [
       "wgt0    30.713191\n",
       "wgt4    29.553583\n",
       "0        1.752063\n",
       "dtype: float64"
      ]
     },
     "execution_count": 6,
     "metadata": {},
     "output_type": "execute_result"
    }
   ],
   "source": [
    "pr2.sem()"
   ]
  },
  {
   "cell_type": "code",
   "execution_count": 7,
   "metadata": {},
   "outputs": [
    {
     "data": {
      "text/plain": [
       "138.4375"
      ]
     },
     "execution_count": 7,
     "metadata": {},
     "output_type": "execute_result"
    }
   ],
   "source": [
    "#triglyceride levels of patients\n",
    "d1.tg0.mean()"
   ]
  },
  {
   "cell_type": "code",
   "execution_count": 8,
   "metadata": {},
   "outputs": [
    {
     "data": {
      "text/plain": [
       "124.375"
      ]
     },
     "execution_count": 8,
     "metadata": {},
     "output_type": "execute_result"
    }
   ],
   "source": [
    "#final triglyceride levels of patients\n",
    "d1.tg4.mean()"
   ]
  },
  {
   "cell_type": "code",
   "execution_count": 9,
   "metadata": {},
   "outputs": [
    {
     "data": {
      "text/plain": [
       "198.375"
      ]
     },
     "execution_count": 9,
     "metadata": {},
     "output_type": "execute_result"
    }
   ],
   "source": [
    "#weights of pateints\n",
    "d1.wgt0.mean()"
   ]
  },
  {
   "cell_type": "code",
   "execution_count": 10,
   "metadata": {},
   "outputs": [
    {
     "data": {
      "text/plain": [
       "190.3125"
      ]
     },
     "execution_count": 10,
     "metadata": {},
     "output_type": "execute_result"
    }
   ],
   "source": [
    "#final weights of pateints\n",
    "d1.wgt4.mean()"
   ]
  },
  {
   "cell_type": "code",
   "execution_count": 11,
   "metadata": {},
   "outputs": [
    {
     "data": {
      "text/plain": [
       "8.0625"
      ]
     },
     "execution_count": 11,
     "metadata": {},
     "output_type": "execute_result"
    }
   ],
   "source": [
    "#FInal wieght and inital weight difreenece\n",
    "d1.wgt0.mean()-d1.wgt4.mean()"
   ]
  },
  {
   "cell_type": "code",
   "execution_count": 12,
   "metadata": {},
   "outputs": [],
   "source": [
    "#1\n",
    "#H0: levels of Triglycerides  before diet are equal levels of Triglycerides  after diet\n",
    "#H1: levels of Triglycerides  before diet are not equal levels of Triglycerides after diet\n",
    "\n",
    "stat1 = stats.ttest_rel(a=d1.tg0,b=d1.tg4) "
   ]
  },
  {
   "cell_type": "code",
   "execution_count": 13,
   "metadata": {},
   "outputs": [
    {
     "data": {
      "text/plain": [
       "0.24874946576903698"
      ]
     },
     "execution_count": 13,
     "metadata": {},
     "output_type": "execute_result"
    }
   ],
   "source": [
    "stat1.pvalue"
   ]
  },
  {
   "cell_type": "code",
   "execution_count": 14,
   "metadata": {},
   "outputs": [
    {
     "data": {
      "text/plain": [
       "True"
      ]
     },
     "execution_count": 14,
     "metadata": {},
     "output_type": "execute_result"
    }
   ],
   "source": [
    "stat1.pvalue>0.05"
   ]
  },
  {
   "cell_type": "code",
   "execution_count": 15,
   "metadata": {},
   "outputs": [],
   "source": [
    "#2\n",
    "#H0: weights of individual before diet are equal  weights of individual after diet\n",
    "#H1: weights of individual before diet are not equal  weights of individual after diet"
   ]
  },
  {
   "cell_type": "code",
   "execution_count": 16,
   "metadata": {},
   "outputs": [],
   "source": [
    "stat2 = stats.ttest_rel(a=d1.wgt0,b=d1.wgt4) "
   ]
  },
  {
   "cell_type": "code",
   "execution_count": 17,
   "metadata": {},
   "outputs": [
    {
     "data": {
      "text/plain": [
       "1.137689414996614e-08"
      ]
     },
     "execution_count": 17,
     "metadata": {},
     "output_type": "execute_result"
    }
   ],
   "source": [
    "stat2.pvalue"
   ]
  },
  {
   "cell_type": "code",
   "execution_count": 18,
   "metadata": {},
   "outputs": [
    {
     "data": {
      "text/plain": [
       "False"
      ]
     },
     "execution_count": 18,
     "metadata": {},
     "output_type": "execute_result"
    }
   ],
   "source": [
    "stat2.pvalue>0.05"
   ]
  },
  {
   "cell_type": "code",
   "execution_count": 19,
   "metadata": {},
   "outputs": [],
   "source": [
    "# p-value in weight < 0.05\n",
    "# we can say that 8.0625 wight is not loss due to variation \n",
    "# p-value greater > 0.05 in triglyceride shows diet did not  reduce their triglyceride levels"
   ]
  },
  {
   "cell_type": "code",
   "execution_count": 20,
   "metadata": {},
   "outputs": [
    {
     "data": {
      "text/html": [
       "<div>\n",
       "<style scoped>\n",
       "    .dataframe tbody tr th:only-of-type {\n",
       "        vertical-align: middle;\n",
       "    }\n",
       "\n",
       "    .dataframe tbody tr th {\n",
       "        vertical-align: top;\n",
       "    }\n",
       "\n",
       "    .dataframe thead th {\n",
       "        text-align: right;\n",
       "    }\n",
       "</style>\n",
       "<table border=\"1\" class=\"dataframe\">\n",
       "  <thead>\n",
       "    <tr style=\"text-align: right;\">\n",
       "      <th></th>\n",
       "      <th>id</th>\n",
       "      <th>insert</th>\n",
       "      <th>dollars</th>\n",
       "      <th>type</th>\n",
       "    </tr>\n",
       "  </thead>\n",
       "  <tbody>\n",
       "    <tr>\n",
       "      <th>0</th>\n",
       "      <td>148</td>\n",
       "      <td>Standard</td>\n",
       "      <td>2232.771979</td>\n",
       "      <td>Standard</td>\n",
       "    </tr>\n",
       "    <tr>\n",
       "      <th>1</th>\n",
       "      <td>572</td>\n",
       "      <td>New Promotion</td>\n",
       "      <td>1403.807542</td>\n",
       "      <td>New Promotion</td>\n",
       "    </tr>\n",
       "    <tr>\n",
       "      <th>2</th>\n",
       "      <td>973</td>\n",
       "      <td>Standard</td>\n",
       "      <td>2327.092181</td>\n",
       "      <td>Standard</td>\n",
       "    </tr>\n",
       "    <tr>\n",
       "      <th>3</th>\n",
       "      <td>1096</td>\n",
       "      <td>Standard</td>\n",
       "      <td>1280.030541</td>\n",
       "      <td>Standard</td>\n",
       "    </tr>\n",
       "    <tr>\n",
       "      <th>4</th>\n",
       "      <td>1541</td>\n",
       "      <td>New Promotion</td>\n",
       "      <td>1513.563200</td>\n",
       "      <td>New Promotion</td>\n",
       "    </tr>\n",
       "    <tr>\n",
       "      <th>...</th>\n",
       "      <td>...</td>\n",
       "      <td>...</td>\n",
       "      <td>...</td>\n",
       "      <td>...</td>\n",
       "    </tr>\n",
       "    <tr>\n",
       "      <th>495</th>\n",
       "      <td>130163</td>\n",
       "      <td>New Promotion</td>\n",
       "      <td>1513.060134</td>\n",
       "      <td>New Promotion</td>\n",
       "    </tr>\n",
       "    <tr>\n",
       "      <th>496</th>\n",
       "      <td>130204</td>\n",
       "      <td>New Promotion</td>\n",
       "      <td>1020.757943</td>\n",
       "      <td>New Promotion</td>\n",
       "    </tr>\n",
       "    <tr>\n",
       "      <th>497</th>\n",
       "      <td>130255</td>\n",
       "      <td>Standard</td>\n",
       "      <td>1919.856304</td>\n",
       "      <td>Standard</td>\n",
       "    </tr>\n",
       "    <tr>\n",
       "      <th>498</th>\n",
       "      <td>130583</td>\n",
       "      <td>Standard</td>\n",
       "      <td>1863.014814</td>\n",
       "      <td>Standard</td>\n",
       "    </tr>\n",
       "    <tr>\n",
       "      <th>499</th>\n",
       "      <td>130682</td>\n",
       "      <td>Standard</td>\n",
       "      <td>1295.012183</td>\n",
       "      <td>Standard</td>\n",
       "    </tr>\n",
       "  </tbody>\n",
       "</table>\n",
       "<p>500 rows × 4 columns</p>\n",
       "</div>"
      ],
      "text/plain": [
       "         id         insert      dollars           type\n",
       "0       148       Standard  2232.771979       Standard\n",
       "1       572  New Promotion  1403.807542  New Promotion\n",
       "2       973       Standard  2327.092181       Standard\n",
       "3      1096       Standard  1280.030541       Standard\n",
       "4      1541  New Promotion  1513.563200  New Promotion\n",
       "..      ...            ...          ...            ...\n",
       "495  130163  New Promotion  1513.060134  New Promotion\n",
       "496  130204  New Promotion  1020.757943  New Promotion\n",
       "497  130255       Standard  1919.856304       Standard\n",
       "498  130583       Standard  1863.014814       Standard\n",
       "499  130682       Standard  1295.012183       Standard\n",
       "\n",
       "[500 rows x 4 columns]"
      ]
     },
     "execution_count": 20,
     "metadata": {},
     "output_type": "execute_result"
    }
   ],
   "source": [
    "#Q2\n",
    "\n",
    "d2['type']=d2['insert']\n",
    "\n",
    "d2['type'].replace(0, 'Standard',inplace=True)\n",
    "\n",
    "d2\n"
   ]
  },
  {
   "cell_type": "code",
   "execution_count": 21,
   "metadata": {},
   "outputs": [],
   "source": [
    "spent_during_promotional_period = d2['dollars'].loc[d2['insert']==\"Standard\"]\n",
    "\n",
    "Type_of_mail_insert = d2['dollars'].loc[d2['insert']==\"New Promotion\"]"
   ]
  },
  {
   "cell_type": "code",
   "execution_count": 22,
   "metadata": {},
   "outputs": [
    {
     "name": "stdout",
     "output_type": "stream",
     "text": [
      "1566.3890309659348\n",
      "1637.4999830647992\n"
     ]
    }
   ],
   "source": [
    "print (spent_during_promotional_period.mean())\n",
    "print (Type_of_mail_insert.mean())"
   ]
  },
  {
   "cell_type": "code",
   "execution_count": 23,
   "metadata": {},
   "outputs": [
    {
     "name": "stdout",
     "output_type": "stream",
     "text": [
      "120182.20156769526\n",
      "127237.15055227646\n"
     ]
    }
   ],
   "source": [
    "print (spent_during_promotional_period.var())\n",
    "print (Type_of_mail_insert.var())"
   ]
  },
  {
   "cell_type": "code",
   "execution_count": 24,
   "metadata": {},
   "outputs": [
    {
     "data": {
      "text/plain": [
       "-2.2604227264649963"
      ]
     },
     "execution_count": 24,
     "metadata": {},
     "output_type": "execute_result"
    }
   ],
   "source": [
    "variance_equal = stats.ttest_ind(a= spent_during_promotional_period,b= Type_of_mail_insert,equal_var=True)  \n",
    "variance_equal.statistic"
   ]
  },
  {
   "cell_type": "code",
   "execution_count": 25,
   "metadata": {},
   "outputs": [
    {
     "data": {
      "text/plain": [
       "-2.260422726464996"
      ]
     },
     "execution_count": 25,
     "metadata": {},
     "output_type": "execute_result"
    }
   ],
   "source": [
    "variance_unequal = stats.ttest_ind(a=spent_during_promotional_period,b= Type_of_mail_insert,equal_var=False)\n",
    "variance_unequal.statistic\n"
   ]
  },
  {
   "cell_type": "code",
   "execution_count": 26,
   "metadata": {},
   "outputs": [
    {
     "data": {
      "text/plain": [
       "4.440892098500626e-16"
      ]
     },
     "execution_count": 26,
     "metadata": {},
     "output_type": "execute_result"
    }
   ],
   "source": [
    "variance_unequal.statistic-variance_equal.statistic"
   ]
  },
  {
   "cell_type": "code",
   "execution_count": 27,
   "metadata": {},
   "outputs": [
    {
     "name": "stdout",
     "output_type": "stream",
     "text": [
      "  t-score --2.2604227264649963\n",
      " p-value -0.024225996894147814\n",
      "reject null hypothesis\n"
     ]
    }
   ],
   "source": [
    "\n",
    "truth = variance_equal.statistic\n",
    "\n",
    "fals = variance_equal.pvalue\n",
    "\n",
    "print(\"  t-score -{}\\n p-value -{}\".format(truth,fals))\n",
    "\n",
    "if(fals<0.05):\n",
    "    print('reject null hypothesis')\n",
    "else:\n",
    "    print('accept null hypothesis')"
   ]
  },
  {
   "cell_type": "code",
   "execution_count": 28,
   "metadata": {},
   "outputs": [
    {
     "data": {
      "text/html": [
       "<div>\n",
       "<style scoped>\n",
       "    .dataframe tbody tr th:only-of-type {\n",
       "        vertical-align: middle;\n",
       "    }\n",
       "\n",
       "    .dataframe tbody tr th {\n",
       "        vertical-align: top;\n",
       "    }\n",
       "\n",
       "    .dataframe thead th {\n",
       "        text-align: right;\n",
       "    }\n",
       "</style>\n",
       "<table border=\"1\" class=\"dataframe\">\n",
       "  <thead>\n",
       "    <tr style=\"text-align: right;\">\n",
       "      <th></th>\n",
       "      <th>Group</th>\n",
       "      <th>Fruit_Wt</th>\n",
       "      <th>Seed_Yield_Plant</th>\n",
       "      <th>Seedling_length</th>\n",
       "    </tr>\n",
       "  </thead>\n",
       "  <tbody>\n",
       "    <tr>\n",
       "      <th>0</th>\n",
       "      <td>Natural</td>\n",
       "      <td>1.85</td>\n",
       "      <td>147.70</td>\n",
       "      <td>16.86</td>\n",
       "    </tr>\n",
       "    <tr>\n",
       "      <th>1</th>\n",
       "      <td>Natural</td>\n",
       "      <td>1.86</td>\n",
       "      <td>136.86</td>\n",
       "      <td>16.77</td>\n",
       "    </tr>\n",
       "    <tr>\n",
       "      <th>2</th>\n",
       "      <td>Natural</td>\n",
       "      <td>1.83</td>\n",
       "      <td>149.97</td>\n",
       "      <td>16.35</td>\n",
       "    </tr>\n",
       "    <tr>\n",
       "      <th>3</th>\n",
       "      <td>Natural</td>\n",
       "      <td>1.89</td>\n",
       "      <td>172.33</td>\n",
       "      <td>18.26</td>\n",
       "    </tr>\n",
       "    <tr>\n",
       "      <th>4</th>\n",
       "      <td>Natural</td>\n",
       "      <td>1.80</td>\n",
       "      <td>144.46</td>\n",
       "      <td>17.90</td>\n",
       "    </tr>\n",
       "  </tbody>\n",
       "</table>\n",
       "</div>"
      ],
      "text/plain": [
       "     Group  Fruit_Wt  Seed_Yield_Plant  Seedling_length\n",
       "0  Natural      1.85            147.70            16.86\n",
       "1  Natural      1.86            136.86            16.77\n",
       "2  Natural      1.83            149.97            16.35\n",
       "3  Natural      1.89            172.33            18.26\n",
       "4  Natural      1.80            144.46            17.90"
      ]
     },
     "execution_count": 28,
     "metadata": {},
     "output_type": "execute_result"
    }
   ],
   "source": [
    "#Q3----A\n",
    "d3.head()"
   ]
  },
  {
   "cell_type": "code",
   "execution_count": 29,
   "metadata": {},
   "outputs": [],
   "source": [
    "#One Sample t-Test\n",
    "#Ho- Population of Seed yield/plant equal 200 \n",
    "#Ha - Population of Seed yield/plant not equal 200"
   ]
  },
  {
   "cell_type": "code",
   "execution_count": 30,
   "metadata": {},
   "outputs": [
    {
     "data": {
      "text/plain": [
       "180.8035"
      ]
     },
     "execution_count": 30,
     "metadata": {},
     "output_type": "execute_result"
    }
   ],
   "source": [
    "d3.Seed_Yield_Plant.mean()"
   ]
  },
  {
   "cell_type": "code",
   "execution_count": 31,
   "metadata": {},
   "outputs": [
    {
     "name": "stdout",
     "output_type": "stream",
     "text": [
      "T Score - 0.032891040921283025 \n",
      "  p value- -2.301 \n"
     ]
    }
   ],
   "source": [
    "testing = stats.ttest_1samp(a=d3.Seed_Yield_Plant, popmean = 200)\n",
    "t_score = round(testing.statistic,3)\n",
    "p_value = testing.pvalue\n",
    "print(\"T Score - {} \\n  p value- {} \".format(p_value,t_score))"
   ]
  },
  {
   "cell_type": "code",
   "execution_count": 32,
   "metadata": {},
   "outputs": [
    {
     "data": {
      "text/plain": [
       "False"
      ]
     },
     "execution_count": 32,
     "metadata": {},
     "output_type": "execute_result"
    }
   ],
   "source": [
    "p_value>0.05 "
   ]
  },
  {
   "cell_type": "code",
   "execution_count": 33,
   "metadata": {},
   "outputs": [],
   "source": [
    "#rejecting null hypothesis"
   ]
  },
  {
   "cell_type": "code",
   "execution_count": 34,
   "metadata": {},
   "outputs": [],
   "source": [
    "#Q3-----B\n",
    "\n",
    "#F-Test/Anova\n",
    "\n",
    "#H0 -mean Fruit_Wt = mean Seed_Yield_Plant = mean Seedling_length\n",
    "\n",
    "#H1-mean Fruit_Wt != mean Seed_Yield_Plant != mean Seedling_length"
   ]
  },
  {
   "cell_type": "code",
   "execution_count": 35,
   "metadata": {},
   "outputs": [
    {
     "data": {
      "text/html": [
       "<div>\n",
       "<style scoped>\n",
       "    .dataframe tbody tr th:only-of-type {\n",
       "        vertical-align: middle;\n",
       "    }\n",
       "\n",
       "    .dataframe tbody tr th {\n",
       "        vertical-align: top;\n",
       "    }\n",
       "\n",
       "    .dataframe thead th {\n",
       "        text-align: right;\n",
       "    }\n",
       "</style>\n",
       "<table border=\"1\" class=\"dataframe\">\n",
       "  <thead>\n",
       "    <tr style=\"text-align: right;\">\n",
       "      <th></th>\n",
       "      <th>Group</th>\n",
       "      <th>Fruit_Wt</th>\n",
       "      <th>Seed_Yield_Plant</th>\n",
       "      <th>Seedling_length</th>\n",
       "    </tr>\n",
       "  </thead>\n",
       "  <tbody>\n",
       "    <tr>\n",
       "      <th>0</th>\n",
       "      <td>Natural</td>\n",
       "      <td>1.85</td>\n",
       "      <td>147.70</td>\n",
       "      <td>16.86</td>\n",
       "    </tr>\n",
       "    <tr>\n",
       "      <th>1</th>\n",
       "      <td>Natural</td>\n",
       "      <td>1.86</td>\n",
       "      <td>136.86</td>\n",
       "      <td>16.77</td>\n",
       "    </tr>\n",
       "    <tr>\n",
       "      <th>2</th>\n",
       "      <td>Natural</td>\n",
       "      <td>1.83</td>\n",
       "      <td>149.97</td>\n",
       "      <td>16.35</td>\n",
       "    </tr>\n",
       "    <tr>\n",
       "      <th>3</th>\n",
       "      <td>Natural</td>\n",
       "      <td>1.89</td>\n",
       "      <td>172.33</td>\n",
       "      <td>18.26</td>\n",
       "    </tr>\n",
       "    <tr>\n",
       "      <th>4</th>\n",
       "      <td>Natural</td>\n",
       "      <td>1.80</td>\n",
       "      <td>144.46</td>\n",
       "      <td>17.90</td>\n",
       "    </tr>\n",
       "  </tbody>\n",
       "</table>\n",
       "</div>"
      ],
      "text/plain": [
       "     Group  Fruit_Wt  Seed_Yield_Plant  Seedling_length\n",
       "0  Natural      1.85            147.70            16.86\n",
       "1  Natural      1.86            136.86            16.77\n",
       "2  Natural      1.83            149.97            16.35\n",
       "3  Natural      1.89            172.33            18.26\n",
       "4  Natural      1.80            144.46            17.90"
      ]
     },
     "execution_count": 35,
     "metadata": {},
     "output_type": "execute_result"
    }
   ],
   "source": [
    "d3.head()"
   ]
  },
  {
   "cell_type": "code",
   "execution_count": 36,
   "metadata": {},
   "outputs": [
    {
     "name": "stdout",
     "output_type": "stream",
     "text": [
      "f-value -312.228532974426 \n",
      " p value- 8.078362076486568e-13\n"
     ]
    }
   ],
   "source": [
    "natural_pollination = d3['Fruit_Wt'].loc[d3['Group']==\"Natural\"]\n",
    "hand_pollination = d3['Fruit_Wt'].loc[d3['Group']==\"Hand\"]\n",
    "\n",
    "anova = stats.f_oneway(natural_pollination,hand_pollination)\n",
    "\n",
    "\n",
    "\n",
    "f_val_1 = anova.statistic\n",
    "p_val_1 = anova.pvalue\n",
    "print(\"f-value -{} \\n p value- {}\".format(f_val_1,p_val_1))"
   ]
  },
  {
   "cell_type": "code",
   "execution_count": 37,
   "metadata": {},
   "outputs": [
    {
     "name": "stdout",
     "output_type": "stream",
     "text": [
      "f-value -194.83303662980398 \n",
      " p value- 4.271481585484407e-11\n"
     ]
    }
   ],
   "source": [
    "natural_seed_pollination = d3['Seed_Yield_Plant'].loc[d3['Group']==\"Natural\"]\n",
    "hand_seed_pollination = d3['Seed_Yield_Plant'].loc[d3['Group']==\"Hand\"]\n",
    "anova = stats.f_oneway(natural_seed_pollination,hand_seed_pollination)\n",
    "\n",
    "\n",
    "\n",
    "f_val_2 = anova.statistic\n",
    "p_val_2 = anova.pvalue\n",
    "print(\"f-value -{} \\n p value- {}\".format(f_val_2,p_val_2))"
   ]
  },
  {
   "cell_type": "code",
   "execution_count": 38,
   "metadata": {},
   "outputs": [
    {
     "name": "stdout",
     "output_type": "stream",
     "text": [
      " f-value -6.46293337115627 \n",
      " p value- 0.020428817064110556\n"
     ]
    }
   ],
   "source": [
    "natural_length_pollination = d3['Seedling_length'].loc[d3['Group']==\"Natural\"]\n",
    "hand_length_pollination = d3['Seedling_length'].loc[d3['Group']==\"Hand\"]\n",
    "\n",
    "anova = stats.f_oneway(natural_length_pollination,hand_length_pollination)\n",
    "\n",
    "\n",
    "\n",
    "f_val_3 = anova.statistic\n",
    "p_val_3 = anova.pvalue\n",
    "print(\" f-value -{} \\n p value- {}\".format(f_val_3,p_val_3))"
   ]
  },
  {
   "cell_type": "code",
   "execution_count": 39,
   "metadata": {
    "scrolled": true
   },
   "outputs": [
    {
     "data": {
      "text/html": [
       "<div>\n",
       "<style scoped>\n",
       "    .dataframe tbody tr th:only-of-type {\n",
       "        vertical-align: middle;\n",
       "    }\n",
       "\n",
       "    .dataframe tbody tr th {\n",
       "        vertical-align: top;\n",
       "    }\n",
       "\n",
       "    .dataframe thead th {\n",
       "        text-align: right;\n",
       "    }\n",
       "</style>\n",
       "<table border=\"1\" class=\"dataframe\">\n",
       "  <thead>\n",
       "    <tr style=\"text-align: right;\">\n",
       "      <th></th>\n",
       "      <th>agegroup</th>\n",
       "      <th>dvdscore</th>\n",
       "    </tr>\n",
       "  </thead>\n",
       "  <tbody>\n",
       "    <tr>\n",
       "      <th>0</th>\n",
       "      <td>65 and over</td>\n",
       "      <td>38.454803</td>\n",
       "    </tr>\n",
       "    <tr>\n",
       "      <th>1</th>\n",
       "      <td>55-64</td>\n",
       "      <td>17.669677</td>\n",
       "    </tr>\n",
       "    <tr>\n",
       "      <th>2</th>\n",
       "      <td>65 and over</td>\n",
       "      <td>31.704307</td>\n",
       "    </tr>\n",
       "    <tr>\n",
       "      <th>3</th>\n",
       "      <td>65 and over</td>\n",
       "      <td>25.924460</td>\n",
       "    </tr>\n",
       "    <tr>\n",
       "      <th>4</th>\n",
       "      <td>Under 25</td>\n",
       "      <td>30.450007</td>\n",
       "    </tr>\n",
       "  </tbody>\n",
       "</table>\n",
       "</div>"
      ],
      "text/plain": [
       "      agegroup   dvdscore\n",
       "0  65 and over  38.454803\n",
       "1        55-64  17.669677\n",
       "2  65 and over  31.704307\n",
       "3  65 and over  25.924460\n",
       "4     Under 25  30.450007"
      ]
     },
     "execution_count": 39,
     "metadata": {},
     "output_type": "execute_result"
    }
   ],
   "source": [
    "#Q4\n",
    "#F-Test/Anova\n",
    "#H0-all mean of(agegroup-65 and over,55-64,Under 25 and 35-54 and 45-54 and 25-34) are equal\n",
    "#Ha-all mean of(agegroup-65 and over,55-64,Under 25 and 35-54 and 45-54 and 25-34) are not equal\n",
    "\n",
    "d4.head()"
   ]
  },
  {
   "cell_type": "code",
   "execution_count": 40,
   "metadata": {},
   "outputs": [
    {
     "name": "stdout",
     "output_type": "stream",
     "text": [
      "f-value - 6.992526962676517 \n",
      " p value is 3.087324905679639e-05\n",
      "rejecting null hypothesis\n"
     ]
    }
   ],
   "source": [
    "agegroup_1 = d4['dvdscore'].loc[d4['agegroup']==\"65 and over\"]\n",
    "agegroup_2 = d4['dvdscore'].loc[d4['agegroup']==\"55-64\"]\n",
    "agegroup_3 = d4['dvdscore'].loc[d4['agegroup']==\"Under 25\"]\n",
    "agegroup_4 = d4['dvdscore'].loc[d4['agegroup']==\"35-44\"]\n",
    "agegroup_5 = d4['dvdscore'].loc[d4['agegroup']==\"45-54\"]\n",
    "agegroup_6 = d4['dvdscore'].loc[d4['agegroup']==\"25-34\"]\n",
    "\n",
    "\n",
    "anova_test = stats.f_oneway(agegroup_1,agegroup_2,agegroup_3,agegroup_4,agegroup_5,agegroup_6)\n",
    "\n",
    "f = anova_test.statistic\n",
    "p = anova_test.pvalue\n",
    "\n",
    "\n",
    "print(\"f-value - {} \\n p value is {}\".format(f,p))\n",
    "if(p<0.05):\n",
    "    print('rejecting null hypothesis')\n",
    "else:\n",
    "    print('accepting null hypothesis')"
   ]
  },
  {
   "cell_type": "code",
   "execution_count": 41,
   "metadata": {},
   "outputs": [],
   "source": [
    "#Q5-----A\n",
    "# Chi-Square Test\n",
    "# H0 :No relation between labour force status and marital status\n",
    "\n",
    "# Ha :realtionship between labour force status and marital status"
   ]
  },
  {
   "cell_type": "code",
   "execution_count": 42,
   "metadata": {},
   "outputs": [
    {
     "data": {
      "text/html": [
       "<div>\n",
       "<style scoped>\n",
       "    .dataframe tbody tr th:only-of-type {\n",
       "        vertical-align: middle;\n",
       "    }\n",
       "\n",
       "    .dataframe tbody tr th {\n",
       "        vertical-align: top;\n",
       "    }\n",
       "\n",
       "    .dataframe thead th {\n",
       "        text-align: right;\n",
       "    }\n",
       "</style>\n",
       "<table border=\"1\" class=\"dataframe\">\n",
       "  <thead>\n",
       "    <tr style=\"text-align: right;\">\n",
       "      <th></th>\n",
       "      <th>id</th>\n",
       "      <th>wrkstat</th>\n",
       "      <th>marital</th>\n",
       "      <th>childs</th>\n",
       "      <th>age</th>\n",
       "      <th>educ</th>\n",
       "      <th>paeduc</th>\n",
       "      <th>maeduc</th>\n",
       "      <th>speduc</th>\n",
       "      <th>degree</th>\n",
       "      <th>...</th>\n",
       "      <th>agecat</th>\n",
       "      <th>childcat</th>\n",
       "      <th>news1</th>\n",
       "      <th>news2</th>\n",
       "      <th>news3</th>\n",
       "      <th>news4</th>\n",
       "      <th>news5</th>\n",
       "      <th>car1</th>\n",
       "      <th>car2</th>\n",
       "      <th>car3</th>\n",
       "    </tr>\n",
       "  </thead>\n",
       "  <tbody>\n",
       "    <tr>\n",
       "      <th>0</th>\n",
       "      <td>1</td>\n",
       "      <td>Working full time</td>\n",
       "      <td>Divorced</td>\n",
       "      <td>2.0</td>\n",
       "      <td>60.0</td>\n",
       "      <td>12.0</td>\n",
       "      <td>12.0</td>\n",
       "      <td>12.0</td>\n",
       "      <td>NaN</td>\n",
       "      <td>High school</td>\n",
       "      <td>...</td>\n",
       "      <td>55 to 64</td>\n",
       "      <td>1-2</td>\n",
       "      <td>No</td>\n",
       "      <td>No</td>\n",
       "      <td>No</td>\n",
       "      <td>No</td>\n",
       "      <td>No</td>\n",
       "      <td>American</td>\n",
       "      <td>Japanese</td>\n",
       "      <td>Japanese</td>\n",
       "    </tr>\n",
       "    <tr>\n",
       "      <th>1</th>\n",
       "      <td>2</td>\n",
       "      <td>Working part-time</td>\n",
       "      <td>Never married</td>\n",
       "      <td>0.0</td>\n",
       "      <td>27.0</td>\n",
       "      <td>17.0</td>\n",
       "      <td>20.0</td>\n",
       "      <td>NaN</td>\n",
       "      <td>NaN</td>\n",
       "      <td>Junior college</td>\n",
       "      <td>...</td>\n",
       "      <td>25 to 34</td>\n",
       "      <td>None</td>\n",
       "      <td>No</td>\n",
       "      <td>No</td>\n",
       "      <td>Yes</td>\n",
       "      <td>No</td>\n",
       "      <td>No</td>\n",
       "      <td>American</td>\n",
       "      <td>German</td>\n",
       "      <td>Japanese</td>\n",
       "    </tr>\n",
       "    <tr>\n",
       "      <th>2</th>\n",
       "      <td>3</td>\n",
       "      <td>Working full time</td>\n",
       "      <td>Married</td>\n",
       "      <td>2.0</td>\n",
       "      <td>36.0</td>\n",
       "      <td>12.0</td>\n",
       "      <td>12.0</td>\n",
       "      <td>12.0</td>\n",
       "      <td>16.0</td>\n",
       "      <td>High school</td>\n",
       "      <td>...</td>\n",
       "      <td>35 to 44</td>\n",
       "      <td>1-2</td>\n",
       "      <td>No</td>\n",
       "      <td>No</td>\n",
       "      <td>No</td>\n",
       "      <td>Yes</td>\n",
       "      <td>Yes</td>\n",
       "      <td>American</td>\n",
       "      <td>American</td>\n",
       "      <td>NaN</td>\n",
       "    </tr>\n",
       "    <tr>\n",
       "      <th>3</th>\n",
       "      <td>4</td>\n",
       "      <td>Working full time</td>\n",
       "      <td>Never married</td>\n",
       "      <td>0.0</td>\n",
       "      <td>21.0</td>\n",
       "      <td>13.0</td>\n",
       "      <td>NaN</td>\n",
       "      <td>12.0</td>\n",
       "      <td>NaN</td>\n",
       "      <td>High school</td>\n",
       "      <td>...</td>\n",
       "      <td>Less than 25</td>\n",
       "      <td>None</td>\n",
       "      <td>No</td>\n",
       "      <td>No</td>\n",
       "      <td>No</td>\n",
       "      <td>Yes</td>\n",
       "      <td>Yes</td>\n",
       "      <td>American</td>\n",
       "      <td>Other</td>\n",
       "      <td>NaN</td>\n",
       "    </tr>\n",
       "    <tr>\n",
       "      <th>4</th>\n",
       "      <td>5</td>\n",
       "      <td>Working full time</td>\n",
       "      <td>Never married</td>\n",
       "      <td>0.0</td>\n",
       "      <td>35.0</td>\n",
       "      <td>16.0</td>\n",
       "      <td>NaN</td>\n",
       "      <td>12.0</td>\n",
       "      <td>NaN</td>\n",
       "      <td>Bachelor</td>\n",
       "      <td>...</td>\n",
       "      <td>35 to 44</td>\n",
       "      <td>None</td>\n",
       "      <td>No</td>\n",
       "      <td>No</td>\n",
       "      <td>No</td>\n",
       "      <td>No</td>\n",
       "      <td>No</td>\n",
       "      <td>American</td>\n",
       "      <td>American</td>\n",
       "      <td>Korean</td>\n",
       "    </tr>\n",
       "  </tbody>\n",
       "</table>\n",
       "<p>5 rows × 46 columns</p>\n",
       "</div>"
      ],
      "text/plain": [
       "   id            wrkstat        marital  childs   age  educ  paeduc  maeduc  \\\n",
       "0   1  Working full time       Divorced     2.0  60.0  12.0    12.0    12.0   \n",
       "1   2  Working part-time  Never married     0.0  27.0  17.0    20.0     NaN   \n",
       "2   3  Working full time        Married     2.0  36.0  12.0    12.0    12.0   \n",
       "3   4  Working full time  Never married     0.0  21.0  13.0     NaN    12.0   \n",
       "4   5  Working full time  Never married     0.0  35.0  16.0     NaN    12.0   \n",
       "\n",
       "   speduc          degree  ...        agecat childcat news1 news2  news3  \\\n",
       "0     NaN     High school  ...      55 to 64      1-2    No    No     No   \n",
       "1     NaN  Junior college  ...      25 to 34     None    No    No    Yes   \n",
       "2    16.0     High school  ...      35 to 44      1-2    No    No     No   \n",
       "3     NaN     High school  ...  Less than 25     None    No    No     No   \n",
       "4     NaN        Bachelor  ...      35 to 44     None    No    No     No   \n",
       "\n",
       "  news4 news5      car1      car2      car3  \n",
       "0    No    No  American  Japanese  Japanese  \n",
       "1    No    No  American    German  Japanese  \n",
       "2   Yes   Yes  American  American       NaN  \n",
       "3   Yes   Yes  American     Other       NaN  \n",
       "4    No    No  American  American    Korean  \n",
       "\n",
       "[5 rows x 46 columns]"
      ]
     },
     "execution_count": 42,
     "metadata": {},
     "output_type": "execute_result"
    }
   ],
   "source": [
    "d5.head()"
   ]
  },
  {
   "cell_type": "code",
   "execution_count": 43,
   "metadata": {},
   "outputs": [
    {
     "data": {
      "text/html": [
       "<div>\n",
       "<style scoped>\n",
       "    .dataframe tbody tr th:only-of-type {\n",
       "        vertical-align: middle;\n",
       "    }\n",
       "\n",
       "    .dataframe tbody tr th {\n",
       "        vertical-align: top;\n",
       "    }\n",
       "\n",
       "    .dataframe thead th {\n",
       "        text-align: right;\n",
       "    }\n",
       "</style>\n",
       "<table border=\"1\" class=\"dataframe\">\n",
       "  <thead>\n",
       "    <tr style=\"text-align: right;\">\n",
       "      <th>marital</th>\n",
       "      <th>Divorced</th>\n",
       "      <th>Married</th>\n",
       "      <th>Never married</th>\n",
       "      <th>Separated</th>\n",
       "      <th>Widowed</th>\n",
       "      <th>All</th>\n",
       "    </tr>\n",
       "    <tr>\n",
       "      <th>wrkstat</th>\n",
       "      <th></th>\n",
       "      <th></th>\n",
       "      <th></th>\n",
       "      <th></th>\n",
       "      <th></th>\n",
       "      <th></th>\n",
       "    </tr>\n",
       "  </thead>\n",
       "  <tbody>\n",
       "    <tr>\n",
       "      <th>Keeping house</th>\n",
       "      <td>25</td>\n",
       "      <td>200</td>\n",
       "      <td>35</td>\n",
       "      <td>13</td>\n",
       "      <td>55</td>\n",
       "      <td>328</td>\n",
       "    </tr>\n",
       "    <tr>\n",
       "      <th>Other</th>\n",
       "      <td>12</td>\n",
       "      <td>16</td>\n",
       "      <td>14</td>\n",
       "      <td>4</td>\n",
       "      <td>8</td>\n",
       "      <td>54</td>\n",
       "    </tr>\n",
       "    <tr>\n",
       "      <th>Retired</th>\n",
       "      <td>53</td>\n",
       "      <td>168</td>\n",
       "      <td>17</td>\n",
       "      <td>6</td>\n",
       "      <td>150</td>\n",
       "      <td>394</td>\n",
       "    </tr>\n",
       "    <tr>\n",
       "      <th>School</th>\n",
       "      <td>7</td>\n",
       "      <td>9</td>\n",
       "      <td>60</td>\n",
       "      <td>2</td>\n",
       "      <td>1</td>\n",
       "      <td>79</td>\n",
       "    </tr>\n",
       "    <tr>\n",
       "      <th>Temporarily not working</th>\n",
       "      <td>9</td>\n",
       "      <td>23</td>\n",
       "      <td>11</td>\n",
       "      <td>1</td>\n",
       "      <td>2</td>\n",
       "      <td>46</td>\n",
       "    </tr>\n",
       "    <tr>\n",
       "      <th>Unemployed, laid off</th>\n",
       "      <td>10</td>\n",
       "      <td>13</td>\n",
       "      <td>32</td>\n",
       "      <td>0</td>\n",
       "      <td>3</td>\n",
       "      <td>58</td>\n",
       "    </tr>\n",
       "    <tr>\n",
       "      <th>Working full time</th>\n",
       "      <td>295</td>\n",
       "      <td>778</td>\n",
       "      <td>392</td>\n",
       "      <td>58</td>\n",
       "      <td>44</td>\n",
       "      <td>1567</td>\n",
       "    </tr>\n",
       "    <tr>\n",
       "      <th>Working part-time</th>\n",
       "      <td>35</td>\n",
       "      <td>138</td>\n",
       "      <td>102</td>\n",
       "      <td>9</td>\n",
       "      <td>20</td>\n",
       "      <td>304</td>\n",
       "    </tr>\n",
       "    <tr>\n",
       "      <th>All</th>\n",
       "      <td>446</td>\n",
       "      <td>1345</td>\n",
       "      <td>663</td>\n",
       "      <td>93</td>\n",
       "      <td>283</td>\n",
       "      <td>2830</td>\n",
       "    </tr>\n",
       "  </tbody>\n",
       "</table>\n",
       "</div>"
      ],
      "text/plain": [
       "marital                  Divorced  Married  Never married  Separated  Widowed  \\\n",
       "wrkstat                                                                         \n",
       "Keeping house                  25      200             35         13       55   \n",
       "Other                          12       16             14          4        8   \n",
       "Retired                        53      168             17          6      150   \n",
       "School                          7        9             60          2        1   \n",
       "Temporarily not working         9       23             11          1        2   \n",
       "Unemployed, laid off           10       13             32          0        3   \n",
       "Working full time             295      778            392         58       44   \n",
       "Working part-time              35      138            102          9       20   \n",
       "All                           446     1345            663         93      283   \n",
       "\n",
       "marital                   All  \n",
       "wrkstat                        \n",
       "Keeping house             328  \n",
       "Other                      54  \n",
       "Retired                   394  \n",
       "School                     79  \n",
       "Temporarily not working    46  \n",
       "Unemployed, laid off       58  \n",
       "Working full time        1567  \n",
       "Working part-time         304  \n",
       "All                      2830  "
      ]
     },
     "execution_count": 43,
     "metadata": {},
     "output_type": "execute_result"
    }
   ],
   "source": [
    "sample_survey = pd.crosstab(d5.wrkstat, d5.marital, margins = True)\n",
    "sample_survey"
   ]
  },
  {
   "cell_type": "code",
   "execution_count": 44,
   "metadata": {},
   "outputs": [
    {
     "data": {
      "text/plain": [
       "(729.2421426572284,\n",
       " 1.820339965538765e-127,\n",
       " 40,\n",
       " array([[5.16918728e+01, 1.55886926e+02, 7.68424028e+01, 1.07787986e+01,\n",
       "         3.28000000e+01, 3.28000000e+02],\n",
       "        [8.51024735e+00, 2.56643110e+01, 1.26508834e+01, 1.77455830e+00,\n",
       "         5.40000000e+00, 5.40000000e+01],\n",
       "        [6.20932862e+01, 1.87254417e+02, 9.23045936e+01, 1.29477032e+01,\n",
       "         3.94000000e+01, 3.94000000e+02],\n",
       "        [1.24501767e+01, 3.75459364e+01, 1.85077739e+01, 2.59611307e+00,\n",
       "         7.90000000e+00, 7.90000000e+01],\n",
       "        [7.24946996e+00, 2.18621908e+01, 1.07766784e+01, 1.51166078e+00,\n",
       "         4.60000000e+00, 4.60000000e+01],\n",
       "        [9.14063604e+00, 2.75653710e+01, 1.35879859e+01, 1.90600707e+00,\n",
       "         5.80000000e+00, 5.80000000e+01],\n",
       "        [2.46954770e+02, 7.44740283e+02, 3.67109894e+02, 5.14950530e+01,\n",
       "         1.56700000e+02, 1.56700000e+03],\n",
       "        [4.79095406e+01, 1.44480565e+02, 7.12197880e+01, 9.99010601e+00,\n",
       "         3.04000000e+01, 3.04000000e+02],\n",
       "        [4.46000000e+02, 1.34500000e+03, 6.63000000e+02, 9.30000000e+01,\n",
       "         2.83000000e+02, 2.83000000e+03]]))"
      ]
     },
     "execution_count": 44,
     "metadata": {},
     "output_type": "execute_result"
    }
   ],
   "source": [
    "\n",
    "sample_survey_test = stats.chi2_contingency(observed= sample_survey)\n",
    "\n",
    "sample_survey_test"
   ]
  },
  {
   "cell_type": "code",
   "execution_count": 45,
   "metadata": {},
   "outputs": [
    {
     "name": "stdout",
     "output_type": "stream",
     "text": [
      "chi square- 729.2421426572284 \n",
      " p value is 1.820339965538765e-127\n",
      "rejecting null hypothesis\n"
     ]
    }
   ],
   "source": [
    "print(\"chi square- {} \\n p value is {}\".format(sample_survey_test[0],sample_survey_test[1]))\n",
    "if(p<0.05):\n",
    "    print('rejecting null hypothesis')\n",
    "else:\n",
    "    print('accepting null hypothesis')"
   ]
  },
  {
   "cell_type": "code",
   "execution_count": 46,
   "metadata": {},
   "outputs": [],
   "source": [
    "#Q5-----B\n",
    "#Chi- Square Test\n",
    "#H0 - No relation between educational qualification and marital status\n",
    "\n",
    "#Ha - realtionship between educational qualification and marital status"
   ]
  },
  {
   "cell_type": "code",
   "execution_count": 47,
   "metadata": {},
   "outputs": [
    {
     "data": {
      "text/html": [
       "<div>\n",
       "<style scoped>\n",
       "    .dataframe tbody tr th:only-of-type {\n",
       "        vertical-align: middle;\n",
       "    }\n",
       "\n",
       "    .dataframe tbody tr th {\n",
       "        vertical-align: top;\n",
       "    }\n",
       "\n",
       "    .dataframe thead th {\n",
       "        text-align: right;\n",
       "    }\n",
       "</style>\n",
       "<table border=\"1\" class=\"dataframe\">\n",
       "  <thead>\n",
       "    <tr style=\"text-align: right;\">\n",
       "      <th>marital</th>\n",
       "      <th>Divorced</th>\n",
       "      <th>Married</th>\n",
       "      <th>Never married</th>\n",
       "      <th>Separated</th>\n",
       "      <th>Widowed</th>\n",
       "      <th>All</th>\n",
       "    </tr>\n",
       "    <tr>\n",
       "      <th>degree</th>\n",
       "      <th></th>\n",
       "      <th></th>\n",
       "      <th></th>\n",
       "      <th></th>\n",
       "      <th></th>\n",
       "      <th></th>\n",
       "    </tr>\n",
       "  </thead>\n",
       "  <tbody>\n",
       "    <tr>\n",
       "      <th>Bachelor</th>\n",
       "      <td>58</td>\n",
       "      <td>251</td>\n",
       "      <td>129</td>\n",
       "      <td>12</td>\n",
       "      <td>28</td>\n",
       "      <td>478</td>\n",
       "    </tr>\n",
       "    <tr>\n",
       "      <th>Graduate</th>\n",
       "      <td>29</td>\n",
       "      <td>123</td>\n",
       "      <td>41</td>\n",
       "      <td>3</td>\n",
       "      <td>9</td>\n",
       "      <td>205</td>\n",
       "    </tr>\n",
       "    <tr>\n",
       "      <th>High school</th>\n",
       "      <td>241</td>\n",
       "      <td>686</td>\n",
       "      <td>367</td>\n",
       "      <td>58</td>\n",
       "      <td>148</td>\n",
       "      <td>1500</td>\n",
       "    </tr>\n",
       "    <tr>\n",
       "      <th>Junior college</th>\n",
       "      <td>45</td>\n",
       "      <td>108</td>\n",
       "      <td>46</td>\n",
       "      <td>3</td>\n",
       "      <td>6</td>\n",
       "      <td>208</td>\n",
       "    </tr>\n",
       "    <tr>\n",
       "      <th>LT High school</th>\n",
       "      <td>70</td>\n",
       "      <td>174</td>\n",
       "      <td>77</td>\n",
       "      <td>17</td>\n",
       "      <td>92</td>\n",
       "      <td>430</td>\n",
       "    </tr>\n",
       "    <tr>\n",
       "      <th>All</th>\n",
       "      <td>443</td>\n",
       "      <td>1342</td>\n",
       "      <td>660</td>\n",
       "      <td>93</td>\n",
       "      <td>283</td>\n",
       "      <td>2821</td>\n",
       "    </tr>\n",
       "  </tbody>\n",
       "</table>\n",
       "</div>"
      ],
      "text/plain": [
       "marital         Divorced  Married  Never married  Separated  Widowed   All\n",
       "degree                                                                    \n",
       "Bachelor              58      251            129         12       28   478\n",
       "Graduate              29      123             41          3        9   205\n",
       "High school          241      686            367         58      148  1500\n",
       "Junior college        45      108             46          3        6   208\n",
       "LT High school        70      174             77         17       92   430\n",
       "All                  443     1342            660         93      283  2821"
      ]
     },
     "execution_count": 47,
     "metadata": {},
     "output_type": "execute_result"
    }
   ],
   "source": [
    "sample_survey_1 = pd.crosstab(d5.degree, d5.marital, margins = True)\n",
    "sample_survey_1"
   ]
  },
  {
   "cell_type": "code",
   "execution_count": 48,
   "metadata": {},
   "outputs": [
    {
     "data": {
      "text/plain": [
       "(122.68449020508541,\n",
       " 7.424404099753273e-15,\n",
       " 25,\n",
       " array([[  75.06345268,  227.39312301,  111.83268345,   15.75824176,\n",
       "           47.95249911,  478.        ],\n",
       "        [  32.19248493,   97.52215526,   47.9617157 ,    6.75824176,\n",
       "           20.56540234,  205.        ],\n",
       "        [ 235.55476781,  713.57674583,  350.9393832 ,   49.45054945,\n",
       "          150.4785537 , 1500.        ],\n",
       "        [  32.66359447,   98.94930876,   48.66359447,    6.85714286,\n",
       "           20.86635945,  208.        ],\n",
       "        [  67.52570011,  204.55866714,  100.60262318,   14.17582418,\n",
       "           43.1371854 ,  430.        ],\n",
       "        [ 443.        , 1342.        ,  660.        ,   93.        ,\n",
       "          283.        , 2821.        ]]))"
      ]
     },
     "execution_count": 48,
     "metadata": {},
     "output_type": "execute_result"
    }
   ],
   "source": [
    "sample_survey_test_1 = stats.chi2_contingency(observed= sample_survey_1)\n",
    "\n",
    "sample_survey_test_1\n"
   ]
  },
  {
   "cell_type": "code",
   "execution_count": 49,
   "metadata": {},
   "outputs": [
    {
     "name": "stdout",
     "output_type": "stream",
     "text": [
      "chi square- 122.68449020508541 \n",
      " p value is 7.424404099753273e-15\n",
      "rejecting null hypothesis\n"
     ]
    }
   ],
   "source": [
    "\n",
    "print(\"chi square- {} \\n p value is {}\".format(sample_survey_test_1[0],sample_survey_test_1[1]))\n",
    "if(p<0.05):\n",
    "    print('rejecting null hypothesis')\n",
    "else:\n",
    "    print('accepting null hypothesis')"
   ]
  },
  {
   "cell_type": "code",
   "execution_count": 50,
   "metadata": {},
   "outputs": [],
   "source": [
    "#Q5-----C\n",
    "#Chi- Square Test\n",
    "#H0 -No relation between happiness by earnings and marital status\n",
    "\n",
    "#Ha -realtionship between happiness by earnings and marital status\n",
    " "
   ]
  },
  {
   "cell_type": "code",
   "execution_count": 51,
   "metadata": {},
   "outputs": [
    {
     "data": {
      "text/html": [
       "<div>\n",
       "<style scoped>\n",
       "    .dataframe tbody tr th:only-of-type {\n",
       "        vertical-align: middle;\n",
       "    }\n",
       "\n",
       "    .dataframe tbody tr th {\n",
       "        vertical-align: top;\n",
       "    }\n",
       "\n",
       "    .dataframe thead th {\n",
       "        text-align: right;\n",
       "    }\n",
       "</style>\n",
       "<table border=\"1\" class=\"dataframe\">\n",
       "  <thead>\n",
       "    <tr style=\"text-align: right;\">\n",
       "      <th>income</th>\n",
       "      <th>$1000 TO 2999</th>\n",
       "      <th>$10000 - 14999</th>\n",
       "      <th>$15000 - 19999</th>\n",
       "      <th>$20000 - 24999</th>\n",
       "      <th>$25000 or more</th>\n",
       "      <th>$3000 TO 3999</th>\n",
       "      <th>$4000 TO 4999</th>\n",
       "      <th>$5000 TO 5999</th>\n",
       "      <th>$6000 TO 6999</th>\n",
       "      <th>$7000 TO 7999</th>\n",
       "      <th>$8000 TO 9999</th>\n",
       "      <th>LT $1000</th>\n",
       "      <th>All</th>\n",
       "    </tr>\n",
       "    <tr>\n",
       "      <th>happy</th>\n",
       "      <th></th>\n",
       "      <th></th>\n",
       "      <th></th>\n",
       "      <th></th>\n",
       "      <th></th>\n",
       "      <th></th>\n",
       "      <th></th>\n",
       "      <th></th>\n",
       "      <th></th>\n",
       "      <th></th>\n",
       "      <th></th>\n",
       "      <th></th>\n",
       "      <th></th>\n",
       "    </tr>\n",
       "  </thead>\n",
       "  <tbody>\n",
       "    <tr>\n",
       "      <th>Not too happy</th>\n",
       "      <td>7</td>\n",
       "      <td>39</td>\n",
       "      <td>33</td>\n",
       "      <td>40</td>\n",
       "      <td>113</td>\n",
       "      <td>9</td>\n",
       "      <td>9</td>\n",
       "      <td>6</td>\n",
       "      <td>14</td>\n",
       "      <td>12</td>\n",
       "      <td>9</td>\n",
       "      <td>11</td>\n",
       "      <td>302</td>\n",
       "    </tr>\n",
       "    <tr>\n",
       "      <th>Pretty happy</th>\n",
       "      <td>20</td>\n",
       "      <td>107</td>\n",
       "      <td>119</td>\n",
       "      <td>155</td>\n",
       "      <td>888</td>\n",
       "      <td>11</td>\n",
       "      <td>13</td>\n",
       "      <td>18</td>\n",
       "      <td>13</td>\n",
       "      <td>21</td>\n",
       "      <td>30</td>\n",
       "      <td>13</td>\n",
       "      <td>1408</td>\n",
       "    </tr>\n",
       "    <tr>\n",
       "      <th>Very happy</th>\n",
       "      <td>5</td>\n",
       "      <td>44</td>\n",
       "      <td>26</td>\n",
       "      <td>50</td>\n",
       "      <td>571</td>\n",
       "      <td>4</td>\n",
       "      <td>10</td>\n",
       "      <td>11</td>\n",
       "      <td>6</td>\n",
       "      <td>14</td>\n",
       "      <td>19</td>\n",
       "      <td>11</td>\n",
       "      <td>771</td>\n",
       "    </tr>\n",
       "    <tr>\n",
       "      <th>All</th>\n",
       "      <td>32</td>\n",
       "      <td>190</td>\n",
       "      <td>178</td>\n",
       "      <td>245</td>\n",
       "      <td>1572</td>\n",
       "      <td>24</td>\n",
       "      <td>32</td>\n",
       "      <td>35</td>\n",
       "      <td>33</td>\n",
       "      <td>47</td>\n",
       "      <td>58</td>\n",
       "      <td>35</td>\n",
       "      <td>2481</td>\n",
       "    </tr>\n",
       "  </tbody>\n",
       "</table>\n",
       "</div>"
      ],
      "text/plain": [
       "income         $1000 TO 2999  $10000 - 14999  $15000 - 19999  $20000 - 24999  \\\n",
       "happy                                                                          \n",
       "Not too happy              7              39              33              40   \n",
       "Pretty happy              20             107             119             155   \n",
       "Very happy                 5              44              26              50   \n",
       "All                       32             190             178             245   \n",
       "\n",
       "income         $25000 or more  $3000 TO 3999  $4000 TO 4999  $5000 TO 5999  \\\n",
       "happy                                                                        \n",
       "Not too happy             113              9              9              6   \n",
       "Pretty happy              888             11             13             18   \n",
       "Very happy                571              4             10             11   \n",
       "All                      1572             24             32             35   \n",
       "\n",
       "income         $6000 TO 6999  $7000 TO 7999  $8000 TO 9999  LT $1000   All  \n",
       "happy                                                                       \n",
       "Not too happy             14             12              9        11   302  \n",
       "Pretty happy              13             21             30        13  1408  \n",
       "Very happy                 6             14             19        11   771  \n",
       "All                       33             47             58        35  2481  "
      ]
     },
     "execution_count": 51,
     "metadata": {},
     "output_type": "execute_result"
    }
   ],
   "source": [
    "sample_survey_2 = pd.crosstab(d5.happy, d5.income, margins = True)\n",
    "sample_survey_2"
   ]
  },
  {
   "cell_type": "code",
   "execution_count": 52,
   "metadata": {},
   "outputs": [
    {
     "data": {
      "text/plain": [
       "(178.95053061216427,\n",
       " 7.234749067043371e-21,\n",
       " 36,\n",
       " array([[   3.89520355,   23.12777106,   21.66706973,   29.82265216,\n",
       "          191.35187424,    2.92140266,    3.89520355,    4.26037888,\n",
       "            4.01692866,    5.72108021,    7.06005643,    4.26037888,\n",
       "          302.        ],\n",
       "        [  18.16041919,  107.82748892,  101.01733172,  139.04070939,\n",
       "          892.1305925 ,   13.62031439,   18.16041919,   19.86295848,\n",
       "           18.72793229,   26.67311568,   32.91575977,   19.86295848,\n",
       "         1408.        ],\n",
       "        [   9.94437727,   59.04474002,   55.31559855,   76.13663845,\n",
       "          488.51753325,    7.45828295,    9.94437727,   10.87666264,\n",
       "           10.25513906,   14.60580411,   18.0241838 ,   10.87666264,\n",
       "          771.        ],\n",
       "        [  32.        ,  190.        ,  178.        ,  245.        ,\n",
       "         1572.        ,   24.        ,   32.        ,   35.        ,\n",
       "           33.        ,   47.        ,   58.        ,   35.        ,\n",
       "         2481.        ]]))"
      ]
     },
     "execution_count": 52,
     "metadata": {},
     "output_type": "execute_result"
    }
   ],
   "source": [
    "\n",
    "sample_survey_test_2 = stats.chi2_contingency(observed= sample_survey_2)\n",
    "\n",
    "sample_survey_test_2"
   ]
  },
  {
   "cell_type": "code",
   "execution_count": 53,
   "metadata": {},
   "outputs": [
    {
     "name": "stdout",
     "output_type": "stream",
     "text": [
      "chi square - 178.95053061216427 \n",
      " p value - 7.234749067043371e-21\n"
     ]
    }
   ],
   "source": [
    "\n",
    "print(\"chi square - {} \\n p value - {}\".format(sample_survey_test_2[0],sample_survey_test_2[1]))"
   ]
  },
  {
   "cell_type": "code",
   "execution_count": 54,
   "metadata": {},
   "outputs": [
    {
     "data": {
      "text/html": [
       "<div>\n",
       "<style scoped>\n",
       "    .dataframe tbody tr th:only-of-type {\n",
       "        vertical-align: middle;\n",
       "    }\n",
       "\n",
       "    .dataframe tbody tr th {\n",
       "        vertical-align: top;\n",
       "    }\n",
       "\n",
       "    .dataframe thead th {\n",
       "        text-align: right;\n",
       "    }\n",
       "</style>\n",
       "<table border=\"1\" class=\"dataframe\">\n",
       "  <thead>\n",
       "    <tr style=\"text-align: right;\">\n",
       "      <th>marital</th>\n",
       "      <th>Divorced</th>\n",
       "      <th>Married</th>\n",
       "      <th>Never married</th>\n",
       "      <th>Separated</th>\n",
       "      <th>Widowed</th>\n",
       "      <th>All</th>\n",
       "    </tr>\n",
       "    <tr>\n",
       "      <th>happy</th>\n",
       "      <th></th>\n",
       "      <th></th>\n",
       "      <th></th>\n",
       "      <th></th>\n",
       "      <th></th>\n",
       "      <th></th>\n",
       "    </tr>\n",
       "  </thead>\n",
       "  <tbody>\n",
       "    <tr>\n",
       "      <th>Not too happy</th>\n",
       "      <td>72</td>\n",
       "      <td>71</td>\n",
       "      <td>108</td>\n",
       "      <td>30</td>\n",
       "      <td>59</td>\n",
       "      <td>340</td>\n",
       "    </tr>\n",
       "    <tr>\n",
       "      <th>Pretty happy</th>\n",
       "      <td>278</td>\n",
       "      <td>684</td>\n",
       "      <td>426</td>\n",
       "      <td>49</td>\n",
       "      <td>137</td>\n",
       "      <td>1574</td>\n",
       "    </tr>\n",
       "    <tr>\n",
       "      <th>Very happy</th>\n",
       "      <td>93</td>\n",
       "      <td>582</td>\n",
       "      <td>120</td>\n",
       "      <td>13</td>\n",
       "      <td>83</td>\n",
       "      <td>891</td>\n",
       "    </tr>\n",
       "    <tr>\n",
       "      <th>All</th>\n",
       "      <td>443</td>\n",
       "      <td>1337</td>\n",
       "      <td>654</td>\n",
       "      <td>92</td>\n",
       "      <td>279</td>\n",
       "      <td>2805</td>\n",
       "    </tr>\n",
       "  </tbody>\n",
       "</table>\n",
       "</div>"
      ],
      "text/plain": [
       "marital        Divorced  Married  Never married  Separated  Widowed   All\n",
       "happy                                                                    \n",
       "Not too happy        72       71            108         30       59   340\n",
       "Pretty happy        278      684            426         49      137  1574\n",
       "Very happy           93      582            120         13       83   891\n",
       "All                 443     1337            654         92      279  2805"
      ]
     },
     "execution_count": 54,
     "metadata": {},
     "output_type": "execute_result"
    }
   ],
   "source": [
    "\n",
    "sample_survey_3 = pd.crosstab(d5.happy, d5.marital, margins = True)\n",
    "sample_survey_3"
   ]
  },
  {
   "cell_type": "code",
   "execution_count": 55,
   "metadata": {},
   "outputs": [
    {
     "data": {
      "text/plain": [
       "(260.68943894182826,\n",
       " 7.762777322980048e-47,\n",
       " 15,\n",
       " array([[  53.6969697 ,  162.06060606,   79.27272727,   11.15151515,\n",
       "           33.81818182,  340.        ],\n",
       "        [ 248.58538324,  750.24527629,  366.98609626,   51.62495544,\n",
       "          156.55828877, 1574.        ],\n",
       "        [ 140.71764706,  424.69411765,  207.74117647,   29.22352941,\n",
       "           88.62352941,  891.        ],\n",
       "        [ 443.        , 1337.        ,  654.        ,   92.        ,\n",
       "          279.        , 2805.        ]]))"
      ]
     },
     "execution_count": 55,
     "metadata": {},
     "output_type": "execute_result"
    }
   ],
   "source": [
    "sample_survey_test_3 = stats.chi2_contingency(observed= sample_survey_3)\n",
    "\n",
    "sample_survey_test_3"
   ]
  },
  {
   "cell_type": "code",
   "execution_count": 56,
   "metadata": {},
   "outputs": [
    {
     "name": "stdout",
     "output_type": "stream",
     "text": [
      "chi square- 260.68943894182826 \n",
      " p value is 7.762777322980048e-47\n",
      "rejecting null hypothesis\n",
      "here  260.68 is more than 178.95 so happiness is driven by marital status\n"
     ]
    }
   ],
   "source": [
    "\n",
    "print(\"chi square- {} \\n p value is {}\".format(sample_survey_test_3[0],sample_survey_test_3[1]))\n",
    "if(p<0.05):\n",
    "    print('rejecting null hypothesis')\n",
    "else:\n",
    "    print('accepting null hypothesis')\n",
    "    \n",
    "print('here  260.68 is more than 178.95 so happiness is driven by marital status')"
   ]
  },
  {
   "cell_type": "code",
   "execution_count": null,
   "metadata": {},
   "outputs": [],
   "source": []
  },
  {
   "cell_type": "code",
   "execution_count": null,
   "metadata": {},
   "outputs": [],
   "source": []
  },
  {
   "cell_type": "code",
   "execution_count": null,
   "metadata": {},
   "outputs": [],
   "source": []
  }
 ],
 "metadata": {
  "kernelspec": {
   "display_name": "Python 3",
   "language": "python",
   "name": "python3"
  },
  "language_info": {
   "codemirror_mode": {
    "name": "ipython",
    "version": 3
   },
   "file_extension": ".py",
   "mimetype": "text/x-python",
   "name": "python",
   "nbconvert_exporter": "python",
   "pygments_lexer": "ipython3",
   "version": "3.7.6"
  }
 },
 "nbformat": 4,
 "nbformat_minor": 2
}
